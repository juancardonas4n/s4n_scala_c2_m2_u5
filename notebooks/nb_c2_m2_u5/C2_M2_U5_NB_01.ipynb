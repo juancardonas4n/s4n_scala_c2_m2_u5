{
 "cells": [
  {
   "cell_type": "markdown",
   "metadata": {},
   "source": [
    "\n",
    "# Comodines y aplicaciones parciales\n",
    "\n",
    "## Comodines (**wildcards**)\n",
    "\n",
    "### Ejercicio 1\n",
    "\n",
    "Utilizando los comodines (**wildcard**) vistos en la unidad vamos a correguir y a mejorar el código siguiente, en dos casos especiales:\n",
    "\n",
    "1. La definición de la siguiente función `apply` tiene un error en el último case. La idea es establecer la forma de establecer un caso por omisión.\n",
    "2. En la definición de la función `suma` no tiene error alguno, la idea de este punto es mejorar el código. El inconveniente es que hemos escrito mucho código para implementar esta función literal, particularmente en el caso de la función anónima, esta es muy verbosa y podemos reemplazarla con una versión menos verbosa que utilice marcadores de posición (**placeholders**)."
   ]
  },
  {
   "cell_type": "code",
   "execution_count": null,
   "metadata": {
    "solution2": "hidden",
    "solution2_first": true
   },
   "outputs": [],
   "source": [
    "def apply(a:(Int,Int),opArith:String) = opArith match {\n",
    "    case \"suma\"  => a._1 + a._2\n",
    "    case \"resta\" => a._1 - a._2\n",
    "    case \"mult\"  => a._1 * a._2\n",
    "    default      => a._1 / a._2 // Utilice aquí el comodín\n",
    "}\n",
    "\n",
    "def apply2(a:(Int,Int),func:(Int,Int)=>Int) = f(a._1, a._2)\n",
    "\n",
    "val suma = (a,b) => apply2((a,b),(x,y) => x + y) // Reescriba la func"
   ]
  },
  {
   "cell_type": "code",
   "execution_count": null,
   "metadata": {
    "solution2": "hidden"
   },
   "outputs": [],
   "source": [
    "def apply(a:(Int,Int),opArith:String) = opArith match {\n",
    "    case \"suma\"  => a._1 + a._2\n",
    "    case \"resta\" => a._1 - a._2\n",
    "    case \"mult\"  => a._1 * a._2\n",
    "    case _       => a._1 / a._2 // Utilice aquí el comodín\n",
    "}\n",
    "\n",
    "def apply2(a:(Int,Int),func:(Int,Int)=>Int) = func(a._1, a._2)\n",
    "\n",
    "val suma = (a:Int,b:Int) => apply2((a,b),_+_)"
   ]
  },
  {
   "cell_type": "markdown",
   "metadata": {},
   "source": [
    "### Ejercicio 2\n",
    "\n",
    "    En este ejercicio vamos.\n"
   ]
  }
 ],
 "metadata": {
  "kernelspec": {
   "display_name": "Scala",
   "language": "scala",
   "name": "scala"
  },
  "language_info": {
   "codemirror_mode": "text/x-scala",
   "file_extension": ".sc",
   "mimetype": "text/x-scala",
   "name": "scala",
   "nbconvert_exporter": "script",
   "version": "2.13.3"
  }
 },
 "nbformat": 4,
 "nbformat_minor": 4
}
