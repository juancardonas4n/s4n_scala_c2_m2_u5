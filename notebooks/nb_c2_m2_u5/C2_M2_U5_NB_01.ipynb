{
 "cells": [
  {
   "cell_type": "markdown",
   "metadata": {},
   "source": [
    "\n",
    "# Comodines y aplicaciones parciales\n",
    "\n",
    "## Comodines (**wildcards**)\n",
    "\n",
    "### Ejercicio 1. Uso de comodines\n",
    "\n",
    "Utilizando los comodines (**wildcard**) vistos en la unidad vas a corregir y a mejorar el código siguiente, en dos casos especiales:\n",
    "\n",
    "1. La definición de la siguiente función `apply` tiene un error en el último case. La idea es que establezcas la opción por omisión de la secuencia de `case`s.\n",
    "2. En la definición de la función `suma` no tiene error alguno, la idea de este punto es que mejores el código. El inconveniente es que hemos escrito mucho código para implementar esta función literal, particularmente en el caso de la función anónima, esta es muy verbosa. El objetivo es reescribas nuevamente la función `suma` de forma que uses `apply2` pero esta vez implementa la función utilizando comodines marcadores de posición (**placeholders**)."
   ]
  },
  {
   "cell_type": "code",
   "execution_count": null,
   "metadata": {
    "solution2": "hidden",
    "solution2_first": true
   },
   "outputs": [],
   "source": [
    "def apply(a:(Int,Int),opArith:String) = opArith match {\n",
    "    case \"suma\"  => a._1 + a._2\n",
    "    case \"resta\" => a._1 - a._2\n",
    "    case \"mult\"  => a._1 * a._2\n",
    "    default      => a._1 / a._2 // Utilice aquí el comodín\n",
    "}\n",
    "\n",
    "def apply2(a:(Int,Int),func:(Int,Int)=>Int) = f(a._1, a._2)\n",
    "\n",
    "val suma = (a,b) => apply2((a,b),(x,y) => x + y) // Reescriba la función anónima"
   ]
  },
  {
   "cell_type": "code",
   "execution_count": null,
   "metadata": {
    "solution2": "hidden"
   },
   "outputs": [],
   "source": [
    "def apply(a:(Int,Int),opArith:String) = opArith match {\n",
    "    case \"suma\"  => a._1 + a._2\n",
    "    case \"resta\" => a._1 - a._2\n",
    "    case \"mult\"  => a._1 * a._2\n",
    "    case _       => a._1 / a._2 // Utilice aquí el comodín\n",
    "}\n",
    "\n",
    "def apply2(a:(Int,Int),func:(Int,Int)=>Int) = func(a._1, a._2)\n",
    "\n",
    "val suma = (a:Int,b:Int) => apply2((a,b),_+_)"
   ]
  },
  {
   "cell_type": "markdown",
   "metadata": {},
   "source": [
    "# Marcadores de posición\n",
    "\n",
    "### Ejercicio 2. Marcadores de posición\n",
    "\n",
    "Los marcadores de posición permiten crear funciones de forma dinámica cuando son utilizadas en funciones que reciben funciones por valor. "
   ]
  },
  {
   "cell_type": "code",
   "execution_count": null,
   "metadata": {},
   "outputs": [],
   "source": [
    "def comparar(a:Int, cmp:Int=>Boolean):Boolean = cmp(a)"
   ]
  },
  {
   "cell_type": "markdown",
   "metadata": {},
   "source": [
    "La función `comparar` se encarga cotejar el argumento `a` utilizando para ello la función  `cmp`.  ¿Qué pasa con el argumento `a`, esta variable con qué valor es cotejado? El secreto está en la función de `cmp` esta se encarga de hacer la comparación, pero ya tiene establecido el comparador.\n",
    "\n",
    "Utilizando la función `comparar` y los marcadores de posición con el operador `>` implementar funciones que verifiquen si alguién es mayor de edad según los siguientes paises:\n",
    "* Colombia (`mayorEdadCol`). Mayores de 18 años, inclusive.\n",
    "* Estados Unidos de América (`mayorEdadUSA`). Mayores de 21 años, inclusive.\n",
    "* Nardia (`mayorEdadNardia`). Mayores de 17 años, inclusive."
   ]
  },
  {
   "cell_type": "code",
   "execution_count": null,
   "metadata": {
    "solution2": "hidden",
    "solution2_first": true
   },
   "outputs": [],
   "source": [
    "val mayorEdadCol = ???\n",
    "val mayorEdadUSA = ???\n",
    "val mayorEdadNardia = ???"
   ]
  },
  {
   "cell_type": "code",
   "execution_count": null,
   "metadata": {
    "solution2": "hidden"
   },
   "outputs": [],
   "source": [
    "val mayorEdadCol = (a:Int) => comparar(a, _>17)\n",
    "val mayorEdadUSA = (a:Int) => comparar(a, _>20)\n",
    "val mayorEdadNardia = (a:Int) => comparar(a, _>16)"
   ]
  },
  {
   "cell_type": "markdown",
   "metadata": {},
   "source": [
    "## Aplicación parcial\n",
    "\n",
    "### Ejercicio 3. Composición de funciones\n",
    "\n",
    "En un [**Notebook** anterior](https://mybinder.org/v2/gh/juancardonas4n/s4n_scala_c2_m2_u4/HEAD?filepath=notebooks%2Fnb_c2_m2_u4%2FC2_M2_U4_NB_03.ipynb) introducimos el concepto de composición de funciones a través del combinador (un generador de funciones a partir de funciones) `composicion`. \n",
    "En dicha ocasión propusimos el ejercicio de construir la función de `composicion` y evidentemente lo has logrado. Pero propusimos el siguiente segmento de código para demostrar que la composición funcionaba:\n",
    "```{.scala}\n",
    "val funcion = composicion(_+1,_*2)\n",
    "funcion(3) // 7\n",
    "```\n",
    "En esta ocasión, implementa un versión diferente de ejercicio de forma que implementes dos funciones llamadas `sumaUno` y `multDos` utilizando para ello la aplicación parcial en un de los argumentos de las funciones: `suma`y `mult`que se muestra a continuación. De forma tal que "
   ]
  },
  {
   "cell_type": "code",
   "execution_count": null,
   "metadata": {
    "solution2": "hidden",
    "solution2_first": true
   },
   "outputs": [],
   "source": [
    "def composicion(f:Int=> Int, g:Int => Int):Int => Int = (x:Int) => f(g(x))\n",
    "val sumar:(Int,Int) => Int = (a,b) => a + b\n",
    "val mult:(Int,Int)=> Int = (a,b) => a * b\n",
    "val sumaUno:Int => Int = ???\n",
    "val multDos:Int => Int = ???\n",
    "val funcion = composicion(sumaUno,multDos)\n",
    "funcion(3)"
   ]
  },
  {
   "cell_type": "code",
   "execution_count": null,
   "metadata": {
    "solution2": "hidden"
   },
   "outputs": [],
   "source": [
    "def composicion(f:Int=> Int, g:Int => Int):Int => Int = (x:Int) => f(g(x))\n",
    "val sumar:(Int,Int) => Int = (a,b) => a + b\n",
    "val mult:(Int,Int)=> Int = (a,b) => a * b\n",
    "val sumaUno:Int => Int = sumar(_,1)\n",
    "val multDos:Int => Int = mult(_,2)\n",
    "val funcion = composicion(sumaUno,multDos)\n",
    "funcion(3)"
   ]
  },
  {
   "cell_type": "markdown",
   "metadata": {},
   "source": [
    "### Ejercicio 4. Uso de aplicaciones parciales\n",
    "\n",
    "Uno de los usos particulares de la aplicación parcial de funciones es la de permitir especializar funciones, es decir que a partir de una función general se pueden crear versiones más especializadas cambiando uno o varios argumentos.\n",
    "En la siguiente celda se observa una función general llamada `salario`, esta función se encarga de cómputar un salario basado en el número de horas trabajadas (`nroHoras`) por el valor de la hora (`valorHora`).\n",
    "A partir de ella podemos crear varias versiones especializadas que se encargan de realizar cálculos comunes.\n",
    "Implemente las siguientes funciones por valores teniendo en cuenta:\n",
    "* `salEmplTipo1`: función que calcula el salario de un empleado tipo 1 que devenga 20000 de valor por hora.\n",
    "* `salEmplTipo2`: función que calcula el salario de un empleado tipo 2 que devenga 30000 de valor por hora.\n",
    "* `salEmplTCSalNeg`: suponiendo que el número de horas semanales es 40, esta es la función que calcula el salario de un empleado de tiempo completo cuyo salario es negociable.\n",
    "* `salEmplMTSalNeg`: suponiendo que el número de horas semanales es 40, esta es la función que calcula el salario de un empleado de medio tiempo cuyo salario es negociable."
   ]
  },
  {
   "cell_type": "code",
   "execution_count": null,
   "metadata": {
    "solution2": "hidden",
    "solution2_first": true
   },
   "outputs": [],
   "source": [
    "def salario(nroHoras:Int,valorHora:Double):Double = nroHoras * valorHora\n",
    "val salEmplTipo1:Int=>Double = ???\n",
    "val salEmplTipo2:Int=>Double = ???\n",
    "val salEmplTCSalNeg:Double => Double = ???\n",
    "val salEmplMTSalNeg:Double => Double = ???"
   ]
  },
  {
   "cell_type": "code",
   "execution_count": null,
   "metadata": {
    "solution2": "hidden"
   },
   "outputs": [],
   "source": [
    "def salario(nroHoras:Int,valorHora:Double):Double = nroHoras * valorHora\n",
    "val salEmplTipo1:Int=>Double = salario(_,20000)\n",
    "val salEmplTipo2:Int=>Double = salario(_,30000)\n",
    "val salEmplTCSalNeg:Double => Double = salario(40,_)\n",
    "val salEmplMTSalNeg:Double => Double = salario(20,_)"
   ]
  }
 ],
 "metadata": {
  "kernelspec": {
   "display_name": "Scala",
   "language": "scala",
   "name": "scala"
  },
  "language_info": {
   "codemirror_mode": "text/x-scala",
   "file_extension": ".sc",
   "mimetype": "text/x-scala",
   "name": "scala",
   "nbconvert_exporter": "script",
   "version": "2.13.3"
  }
 },
 "nbformat": 4,
 "nbformat_minor": 4
}
