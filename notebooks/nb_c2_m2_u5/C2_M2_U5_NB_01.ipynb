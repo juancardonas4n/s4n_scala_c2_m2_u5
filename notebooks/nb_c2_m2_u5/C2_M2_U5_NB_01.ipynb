{
 "cells": [
  {
   "cell_type": "markdown",
   "metadata": {},
   "source": [
    "\n",
    "# Comodines y aplicaciones parciales\n",
    "\n",
    "## Comodines (**wildcards**)\n",
    "\n",
    "### Ejercicio 1. Uso de comodines\n",
    "\n",
    "Utilizando los comodines (**wildcard**) vistos en la unidad vas a corregir y a mejorar el siguiente código en dos casos particulares:\n",
    "\n",
    "1. La definición de la siguiente función `apply` tiene un error en el último case. La idea es que establezcas la opción por omisión de la secuencia de `case`s.\n",
    "2. Con la función `suma` queremos que mejores el código. El inconveniente aparence en la función anónima que esta es muy verbosa. El objetivo es reescribas nuevamente la función `suma` de forma que uses `apply2` pero esta vez implementa la función utilizando comodines marcadores de posición (**placeholders**)."
   ]
  },
  {
   "cell_type": "code",
   "execution_count": null,
   "metadata": {
    "solution2": "hidden",
    "solution2_first": true
   },
   "outputs": [],
   "source": [
    "def apply(a:(Int,Int),opArith:String) = opArith match {\n",
    "    case \"suma\"  => a._1 + a._2\n",
    "    case \"resta\" => a._1 - a._2\n",
    "    case \"mult\"  => a._1 * a._2\n",
    "    default      => a._1 / a._2 // Utilice aquí el comodín\n",
    "}\n",
    "\n",
    "def apply2(a:(Int,Int),func:(Int,Int)=>Int) = f(a._1, a._2)\n",
    "\n",
    "val suma = (a,b) => apply2((a,b),(x,y) => x + y) // Reescriba la función anónima"
   ]
  },
  {
   "cell_type": "code",
   "execution_count": null,
   "metadata": {
    "solution2": "hidden"
   },
   "outputs": [],
   "source": [
    "def apply(a:(Int,Int),opArith:String) = opArith match {\n",
    "    case \"suma\"  => a._1 + a._2\n",
    "    case \"resta\" => a._1 - a._2\n",
    "    case \"mult\"  => a._1 * a._2\n",
    "    case _       => a._1 / a._2 // Utilice aquí el comodín\n",
    "}\n",
    "\n",
    "def apply2(a:(Int,Int),func:(Int,Int)=>Int) = func(a._1, a._2)\n",
    "\n",
    "val suma = (a:Int,b:Int) => apply2((a,b),_+_)"
   ]
  },
  {
   "cell_type": "markdown",
   "metadata": {},
   "source": [
    "# Marcadores de posición\n",
    "\n",
    "### Ejercicio 2. Marcadores de posición\n",
    "\n",
    "Los marcadores de posición permiten crear funciones de forma dinámica cuando son utilizadas en funciones que reciben funciones por valor. "
   ]
  },
  {
   "cell_type": "code",
   "execution_count": null,
   "metadata": {},
   "outputs": [],
   "source": [
    "def comparar(a:Int, cmp:Int=>Boolean):Boolean = cmp(a)"
   ]
  },
  {
   "cell_type": "markdown",
   "metadata": {},
   "source": [
    "La función `comparar` se encarga de cotejar el argumento `a` utilizando para ello la función  `cmp`.  ¿Qué pasa con el argumento `a`? ¿Esta variable con qué valor es cotejada? El secreto está en la función de `cmp` que se encarga de hacer el cotejo y ya tiene fijo el valor a comparar. \n",
    "\n",
    "Utilizando la función `comparar` y los marcadores de posición con el operador `>` implementa las siguientes funciones que verifiquen si alguien es mayor de edad según los siguientes países:\n",
    "* Colombia (`mayorEdadCol`). Mayores de 18 años, inclusive.\n",
    "* Estados Unidos de América (`mayorEdadUSA`). Mayores de 21 años, inclusive.\n",
    "* Nardia (`mayorEdadNardia`). Mayores de 17 años, inclusive."
   ]
  },
  {
   "cell_type": "code",
   "execution_count": null,
   "metadata": {
    "solution2": "hidden",
    "solution2_first": true
   },
   "outputs": [],
   "source": [
    "val mayorEdadCol = ???\n",
    "val mayorEdadUSA = ???\n",
    "val mayorEdadNardia = ???"
   ]
  },
  {
   "cell_type": "code",
   "execution_count": null,
   "metadata": {
    "solution2": "hidden"
   },
   "outputs": [],
   "source": [
    "val mayorEdadCol = (a:Int) => comparar(a, _>17)\n",
    "val mayorEdadUSA = (a:Int) => comparar(a, _>20)\n",
    "val mayorEdadNardia = (a:Int) => comparar(a, _>16)"
   ]
  },
  {
   "cell_type": "markdown",
   "metadata": {},
   "source": [
    "## Aplicación parcial\n",
    "\n",
    "### Ejercicio 3. Composición de funciones\n",
    "\n",
    "En un [**Notebook** anterior](https://mybinder.org/v2/gh/juancardonas4n/s4n_scala_c2_m2_u4/HEAD?filepath=notebooks%2Fnb_c2_m2_u4%2FC2_M2_U4_NB_03.ipynb) introducimos el concepto de composición de funciones a través del combinador (un generador de funciones a partir de funciones) `composicion`. \n",
    "En dicha ocasión propusimos el ejercicio de construir la función de `composicion` y evidentemente lo has logrado. Se presentó el siguiente segmento de código que demostraba que la composición funcionaba:\n",
    "```{.scala}\n",
    "val funcion = composicion(_+1,_*2)\n",
    "funcion(3) // 7\n",
    "```\n",
    "En esta ocasión, implementa una versión diferente de ejercicio de forma que construyas dos funciones: `sumaUno` y `multDos`. Utilizando para ello la aplicación parcial en uno de los argumentos de las funciones: `suma`y `mult`que se muestra a continuación. "
   ]
  },
  {
   "cell_type": "code",
   "execution_count": null,
   "metadata": {
    "solution2": "hidden",
    "solution2_first": true
   },
   "outputs": [],
   "source": [
    "def composicion(f:Int=> Int, g:Int => Int):Int => Int = (x:Int) => f(g(x))\n",
    "val sumar:(Int,Int) => Int = (a,b) => a + b\n",
    "val mult:(Int,Int)=> Int = (a,b) => a * b\n",
    "val sumaUno:Int => Int = ???\n",
    "val multDos:Int => Int = ???\n",
    "val funcion = composicion(sumaUno,multDos)\n",
    "funcion(3)"
   ]
  },
  {
   "cell_type": "code",
   "execution_count": null,
   "metadata": {
    "solution2": "hidden"
   },
   "outputs": [],
   "source": [
    "def composicion(f:Int=> Int, g:Int => Int):Int => Int = (x:Int) => f(g(x))\n",
    "val sumar:(Int,Int) => Int = (a,b) => a + b\n",
    "val mult:(Int,Int)=> Int = (a,b) => a * b\n",
    "val sumaUno:Int => Int = sumar(_,1)\n",
    "val multDos:Int => Int = mult(_,2)\n",
    "val funcion = composicion(sumaUno,multDos)\n",
    "funcion(3)"
   ]
  },
  {
   "cell_type": "markdown",
   "metadata": {},
   "source": [
    "### Ejercicio 4. Composición inversa\n",
    "\n",
    "Existe otra forma de composición de funciones llamada en algunos lenguajes `andThen`, que literalmente significa *y luego*. A continuación puedes ver su definición:"
   ]
  },
  {
   "cell_type": "code",
   "execution_count": null,
   "metadata": {},
   "outputs": [],
   "source": [
    "def yLuego(f:Int => Int, g:Int => Int):Int => Int = (x:Int) => g(f(x))"
   ]
  },
  {
   "cell_type": "markdown",
   "metadata": {},
   "source": [
    "Utilizando la función `yLuego` con la siguiente secuencia de funciones, implementa las funciones: `sumaAlgo` y `multAlgo`de forma tal que el resultado de la invocación de la función `f(3)` nos de el resultado esperado (`55`). **Nota** en la implementación de estas funciones debes utilizar aplicación parcial."
   ]
  },
  {
   "cell_type": "code",
   "execution_count": null,
   "metadata": {
    "solution2": "hidden",
    "solution2_first": true
   },
   "outputs": [],
   "source": [
    "val sumar:(Int,Int) => Int = (a,b) => a + b \n",
    "val mult:(Int,Int) => Int = (a,b) => a * b\n",
    "val sumaAlgo:Int => Int = ???\n",
    "val multAlgo:Int => Int = ??\n",
    "val f = yLuego(sumaAlgo,multAlgo)\n",
    "f(3) // 55"
   ]
  },
  {
   "cell_type": "code",
   "execution_count": null,
   "metadata": {
    "scrolled": true,
    "solution2": "hidden"
   },
   "outputs": [],
   "source": [
    "val sumar:(Int,Int) => Int = (a,b) => a + b \n",
    "val mult:(Int,Int) => Int = (a,b) => a * b\n",
    "val sumaAlgo:Int => Int = _ + 8\n",
    "val multAlgo:Int => Int = _ * 5\n",
    "val f = yLuego(sumaAlgo,multAlgo)\n",
    "f(3) // 55"
   ]
  }
 ],
 "metadata": {
  "kernelspec": {
   "display_name": "Scala",
   "language": "scala",
   "name": "scala"
  },
  "language_info": {
   "codemirror_mode": "text/x-scala",
   "file_extension": ".sc",
   "mimetype": "text/x-scala",
   "name": "scala",
   "nbconvert_exporter": "script",
   "version": "2.13.3"
  }
 },
 "nbformat": 4,
 "nbformat_minor": 4
}
