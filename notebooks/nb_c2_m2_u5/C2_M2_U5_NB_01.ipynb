{
 "cells": [
  {
   "cell_type": "markdown",
   "metadata": {},
   "source": [
    "\n",
    "# Comodines y aplicaciones parciales\n",
    "\n",
    "## Comodines (**wildcards**)\n",
    "\n",
    "### Ejercicio 1\n",
    "\n",
    "Utilizando los comodines (**wildcard**) vistos en la unidad corriga el siguiente código. De forma que realice lo que se espera."
   ]
  },
  {
   "cell_type": "code",
   "execution_count": null,
   "metadata": {
    "solution2": "hidden",
    "solution2_first": true
   },
   "outputs": [],
   "source": [
    "import scala.math.* // Utilice aquí el comodín\n",
    "\n",
    "def apply(a:(Int,Int),opArith:String) = opArith match {\n",
    "    case \"suma\"  => a._1 + a._2\n",
    "    case \"resta\" => a._1 - a._2\n",
    "    case \"mult\"  => a._1 * a._2\n",
    "    default      => a._1 / a._2 // Utilice aquí el comodín\n",
    "}"
   ]
  },
  {
   "cell_type": "code",
   "execution_count": null,
   "metadata": {
    "solution2": "hidden"
   },
   "outputs": [],
   "source": [
    "import scala.math._ // Utilice aquí el comodín\n",
    "\n",
    "def apply(a:(Int,Int),opArith:String) = opArith match {\n",
    "    case \"suma\"  => a._1 + a._2\n",
    "    case \"resta\" => a._1 - a._2\n",
    "    case \"mult\"  => a._1 * a._2\n",
    "    case _       => a._1 / a._2 // Utilice aquí el comodín\n",
    "}"
   ]
  },
  {
   "cell_type": "markdown",
   "metadata": {},
   "source": [
    "### Ejercicio 2\n",
    "\n",
    "    En este ejercicio vamos.\n"
   ]
  },
  {
   "cell_type": "code",
   "execution_count": null,
   "metadata": {
    "solution2": "hidden"
   },
   "outputs": [],
   "source": [
    "import scala.math._ // Comodín para obtener todos los elementos públicos del paquete\n",
    "\n",
    "def apply(a:(Int,Int),opArith:String) = opArith match {\n",
    "    case \"suma\"  => a._1 + a._2\n",
    "    case \"resta\" => a._1 - a._2\n",
    "    case \"mult\"  => a._1 * a._2\n",
    "    case _       => a._1 / a._2 // Utilice aquí el comodín\n",
    "}"
   ]
  }
 ],
 "metadata": {
  "kernelspec": {
   "display_name": "Scala",
   "language": "scala",
   "name": "scala"
  },
  "language_info": {
   "codemirror_mode": "text/x-scala",
   "file_extension": ".sc",
   "mimetype": "text/x-scala",
   "name": "scala",
   "nbconvert_exporter": "script",
   "version": "2.13.3"
  }
 },
 "nbformat": 4,
 "nbformat_minor": 4
}
