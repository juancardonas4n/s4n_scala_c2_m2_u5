{
 "cells": [
  {
   "cell_type": "markdown",
   "metadata": {},
   "source": [
    "\n",
    "# Aplicaciones parciales, funciones y métodos\n",
    "\n",
    "## Aplicaciones parciales\n",
    "\n",
    "### Ejercicio 1. \n",
    "\n",
    "Uno de los usos particulares de la aplicación parcial de funciones es la de permitir especializar funciones, es decir que a partir de una función general se pueden crear versiones más especializadas cambiando uno o varios argumentos.\n",
    "En la siguiente celda se observa una función general llamada `salario`, esta función se encarga de cómputar un salario basado en el número de horas trabajadas (`nroHoras`) por el valor de la hora (`valorHora`).\n",
    "A partir de ella podemos crear varias versiones especializadas que se encargan de realizar cálculos comunes.\n",
    "Implemente las siguientes funciones por valores teniendo en cuenta:\n",
    "* `salEmplTipo1`: función que calcula el salario de un empleado tipo 1 que devenga 20000 de valor por hora.\n",
    "* `salEmplTipo2`: función que calcula el salario de un empleado tipo 2 que devenga 30000 de valor por hora.\n",
    "* `salEmplTCSalNeg`: suponiendo que el número de horas semanales es 40, esta es la función que calcula el salario de un empleado de tiempo completo cuyo salario es negociable.\n",
    "* `salEmplMTSalNeg`: suponiendo que el número de horas semanales es 40, esta es la función que calcula el salario de un empleado de medio tiempo cuyo salario es negociable."
   ]
  },
  {
   "cell_type": "code",
   "execution_count": null,
   "metadata": {
    "solution2": "hidden",
    "solution2_first": true
   },
   "outputs": [],
   "source": [
    "def salario(nroHoras:Int,valorHora:Double):Double = nroHoras * valorHora\n",
    "val salEmplTipo1:Int=>Double = ???\n",
    "val salEmplTipo2:Int=>Double = ???\n",
    "val salEmplTCSalNeg:Double => Double = ???\n",
    "val salEmplMTSalNeg:Double => Double = ???"
   ]
  },
  {
   "cell_type": "markdown",
   "metadata": {},
   "source": [
    "## Ejercicio 2.\n",
    "\n",
    "La siguiente es la definición de la función de interés compuesto:\n",
    "\n",
    "![Interes compuesto](imagenes/InteresCompuesto.png)\n",
    "\n",
    "La posible implementación la hacemos así:"
   ]
  },
  {
   "cell_type": "code",
   "execution_count": 1,
   "metadata": {},
   "outputs": [
    {
     "data": {
      "text/plain": [
       "defined \u001b[32mfunction\u001b[39m \u001b[36mintcomp\u001b[39m"
      ]
     },
     "execution_count": 1,
     "metadata": {},
     "output_type": "execute_result"
    }
   ],
   "source": [
    "def intcomp(p:Double,r:Double,t:Int,n:Double):Double = p * math.pow(1 + r / n, n * t)"
   ]
  },
  {
   "cell_type": "markdown",
   "metadata": {},
   "source": [
    "Utilizarás esta función para implementar las siguientes funciones:\n",
    "\n",
    "* `ic5r3n`: función que calcula el interés compuesto con un interés fijo del 5% y se aplica durante tres veces en cada momento del período. \n",
    "* `ic1000kp1n`: función que calcula el interés compuesto de prestar un millón de pesos a cualquier interés y sobre cualquier período siempre una única vez dentro de dicho período.\n",
    "* `ic2000p24t`: función que calcula el interés compuesto para un préstamo 2000 dólares sobre un período fijo de 24 meses."
   ]
  },
  {
   "cell_type": "code",
   "execution_count": 2,
   "metadata": {},
   "outputs": [
    {
     "data": {
      "text/plain": [
       "\u001b[36mic5r3n\u001b[39m: (\u001b[32mDouble\u001b[39m, \u001b[32mInt\u001b[39m) => \u001b[32mDouble\u001b[39m = ammonite.$sess.cmd1$Helper$$Lambda$1822/0x0000000800a59840@f8d0b13\n",
       "\u001b[36mic1000kp1n\u001b[39m: (\u001b[32mDouble\u001b[39m, \u001b[32mInt\u001b[39m) => \u001b[32mDouble\u001b[39m = ammonite.$sess.cmd1$Helper$$Lambda$1823/0x0000000800a5a840@5e071e5b\n",
       "\u001b[36mic2000p24t\u001b[39m: (\u001b[32mDouble\u001b[39m, \u001b[32mDouble\u001b[39m) => \u001b[32mDouble\u001b[39m = ammonite.$sess.cmd1$Helper$$Lambda$1824/0x0000000800a5b840@3a83c45d"
      ]
     },
     "execution_count": 2,
     "metadata": {},
     "output_type": "execute_result"
    }
   ],
   "source": [
    "val ic5r3n = intcomp(_,0.03,_,3)\n",
    "val ic1000kp1n = intcomp(100000,_,_,1)\n",
    "val ic2000p24t = intcomp(2000,_,24,_)"
   ]
  },
  {
   "cell_type": "code",
   "execution_count": null,
   "metadata": {
    "solution2": "hidden"
   },
   "outputs": [],
   "source": [
    "def salario(nroHoras:Int,valorHora:Double):Double = nroHoras * valorHora\n",
    "val salEmplTipo1:Int=>Double = salario(_,20000)\n",
    "val salEmplTipo2:Int=>Double = salario(_,30000)\n",
    "val salEmplTCSalNeg:Double => Double = salario(40,_)\n",
    "val salEmplMTSalNeg:Double => Double = salario(20,_)"
   ]
  }
 ],
 "metadata": {
  "kernelspec": {
   "display_name": "Scala",
   "language": "scala",
   "name": "scala"
  },
  "language_info": {
   "codemirror_mode": "text/x-scala",
   "file_extension": ".sc",
   "mimetype": "text/x-scala",
   "name": "scala",
   "nbconvert_exporter": "script",
   "version": "2.13.3"
  }
 },
 "nbformat": 4,
 "nbformat_minor": 4
}
