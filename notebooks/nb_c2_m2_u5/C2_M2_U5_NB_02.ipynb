{
 "cells": [
  {
   "cell_type": "markdown",
   "metadata": {},
   "source": [
    "\n",
    "# Aplicaciones parciales, funciones y métodos\n",
    "\n",
    "## Aplicaciones parciales\n",
    "\n",
    "### Ejercicio 1. Un salario más especializado\n",
    "\n",
    "La aplicación parcial de funciones te permite especializar funciones, es decir, que a partir de una función general puedes crear versiones más especializadas sustituyendo uno o varios argumentos, por uno o varios valores e igualmente dejar pendientes uno o más argumentos.\n",
    "\n",
    "En la siguiente celda observa una función general llamada `salario`, esta función se encarga de cómputar un salario basado en el número de horas trabajadas (`nroHoras`) por el valor de la hora (`valorHora`).\n",
    "A partir de esta función puedes crear varias versiones con cómputos especializados.\n",
    "\n",
    "Implementa las siguientes funciones, utilizando la aplicación parcial de la función `salario` como te indicamos en la enumeración:\n",
    "\n",
    "* `salEmplTipo1`: función que calcula el salario de un empleado tipo 1 que devenga 20000 de valor por hora.\n",
    "* `salEmplTipo2`: función que calcula el salario de un empleado tipo 2 que devenga 30000 de valor por hora.\n",
    "* `salEmplTCSalNeg`: suponiendo que el número de horas semanales es 40 horas fijas, esta es la función que calcula el salario de un empleado de tiempo completo cuyo salario es negociable.\n",
    "* `salEmplMTSalNeg`: suponiendo que el número de horas semanales es 40 horas fijas, esta es la función que calcula el salario de un empleado de medio tiempo cuyo salario es negociable."
   ]
  },
  {
   "cell_type": "code",
   "execution_count": null,
   "metadata": {
    "solution2": "hidden",
    "solution2_first": true
   },
   "outputs": [],
   "source": [
    "def salario(nroHoras:Int,valorHora:Double):Double = nroHoras * valorHora\n",
    "val salEmplTipo1:Int=>Double = ???\n",
    "val salEmplTipo2:Int=>Double = ???\n",
    "val salEmplTCSalNeg:Double => Double = ???\n",
    "val salEmplMTSalNeg:Double => Double = ???"
   ]
  },
  {
   "cell_type": "code",
   "execution_count": null,
   "metadata": {
    "solution2": "hidden"
   },
   "outputs": [],
   "source": [
    "def salario(nroHoras:Int,valorHora:Double):Double = nroHoras * valorHora\n",
    "val salEmplTipo1:Int=>Double = salario(_,20000)\n",
    "val salEmplTipo2:Int=>Double = salario(_,30000)\n",
    "val salEmplTCSalNeg:Double => Double = salario(40,_)\n",
    "val salEmplMTSalNeg:Double => Double = salario(20,_)"
   ]
  },
  {
   "cell_type": "markdown",
   "metadata": {},
   "source": [
    "## Ejercicio 2. Interés cuánto vales\n",
    "\n",
    "La siguiente es la definición de la función de interés compuesto:\n",
    "\n",
    "![Interes compuesto](imagenes/InteresCompuesto.png)\n",
    "\n",
    "La implementación de la función `intcomp`es la siguiente:"
   ]
  },
  {
   "cell_type": "code",
   "execution_count": null,
   "metadata": {},
   "outputs": [],
   "source": [
    "def intcomp(p:Double,r:Double,t:Int,n:Double):Double = p * math.pow(1 + r / n, n * t)"
   ]
  },
  {
   "cell_type": "markdown",
   "metadata": {},
   "source": [
    "Utilizarás esta función para implementar las siguientes funciones, a través de la aplicación parcial:\n",
    "\n",
    "* `ic5r3n`: función que calcula el interés compuesto con un interés fijo del 5% y se aplica durante tres veces en cada momento del período. \n",
    "* `ic1000kp1n`: función que calcula el interés compuesto de prestar un millón de pesos a cualquier interés y sobre cualquier período siempre una única vez dentro de dicho período.\n",
    "* `ic2000p24t`: función que calcula el interés compuesto para un préstamo 2000 dólares sobre un período fijo de 24 meses."
   ]
  },
  {
   "cell_type": "code",
   "execution_count": null,
   "metadata": {
    "solution2": "hidden",
    "solution2_first": true
   },
   "outputs": [],
   "source": [
    "val ic5r3n = ???\n",
    "val ic1000kp1n = ???\n",
    "val ic2000p24t = ???"
   ]
  },
  {
   "cell_type": "code",
   "execution_count": null,
   "metadata": {
    "solution2": "hidden"
   },
   "outputs": [],
   "source": [
    "val ic5r3n = intcomp(_,0.05,_,3)\n",
    "val ic1000kp1n = intcomp(100000,_,_,1)\n",
    "val ic2000p24t = intcomp(2000,_,24,_)"
   ]
  },
  {
   "cell_type": "markdown",
   "metadata": {},
   "source": [
    "# Funciones y métodos\n",
    "\n",
    "## Ejercicio 3. Eliminar el azúcar sintáctico de nuestra dieta\n",
    "\n",
    "Observa la siguientes definiciones de funciones: "
   ]
  },
  {
   "cell_type": "code",
   "execution_count": null,
   "metadata": {},
   "outputs": [],
   "source": [
    "val funcion1 = (a:Double, b:Int, c:Int) => 2.0 * a + 0.02 * (b + c)\n",
    "val funcion2 = (a:String, b:Double, c:Int, d:Int) => a.substring(c,d).toDouble * b\n",
    "val funcion3 = (a:Int, b:Int, c:Int, d:Int, e:Int, f:Int, g:Int, h:Int) = (a + b + c + d + e + f + g + h).toDouble"
   ]
  },
  {
   "cell_type": "markdown",
   "metadata": {},
   "source": [
    "y utilizando el siguiente mecanismo de conversión (algo similiar al que haría el compilador):\n",
    "\n",
    "```{.scala}\n",
    "   val suma = (a:Int,b:Int) => a + b\n",
    "   val sumaF = new Function2[Int,Int,Int] { def apply(a:Int,b:Int) = a + b }\n",
    "```\n",
    "\n",
    "Implementa las funciones equivalentes generadas por el compilador (supuestamente)."
   ]
  },
  {
   "cell_type": "code",
   "execution_count": null,
   "metadata": {
    "solution2": "hidden",
    "solution2_first": true
   },
   "outputs": [],
   "source": [
    "val funcion1F = ???  // Equivalente a funcion1\n",
    "val funcion2F = ???  // Equivalente a funcion2 \n",
    "val funcion3F = ???  // Equivalente a funcion3"
   ]
  },
  {
   "cell_type": "code",
   "execution_count": null,
   "metadata": {
    "solution2": "hidden"
   },
   "outputs": [],
   "source": [
    "val funcion1F = new Function3[Double,Int,Int,Double] {\n",
    "    def apply(a:Double, b:Int, c:Int) = 2.0 * a + 0.02 * (b + c)\n",
    "}\n",
    "val funcion2F = new Function4[String,Double,Int,Int,Double] {\n",
    "    def apply(a:String, b:Double, c:Int, d:Int) = a.substring(c,d).toDouble * b\n",
    "}\n",
    "val funcion3F = new Function8[Int,Int,Int,Int,Int,Int,Int,Int,Double] {\n",
    "    def apply(a:Int, b:Int, c:Int, d:Int, e:Int, f:Int, g:Int, h:Int) = (a + b + c + d + e + f + g + h).toDouble \n",
    "}"
   ]
  },
  {
   "cell_type": "markdown",
   "metadata": {},
   "source": [
    "## Ejercicio 4. Composición de funciones y composición inversa\n",
    "\n",
    "En un *notebook* anterior te mostramos cómo implementar las funciones de composición (`compose`), y en esta ocasión insistimos de nuevo en esta técnica de *combinar* otras funciones y producir nuevas funciones, pero ya conocemos que el lenguaje da **soporte** a este tipo de combinadores en particular sobre *funciones* y en el caso particular a través del *trail* `Function1` que ya tiene definida esta función (`compose`) como la función de composición inversa (`andThen`). \n",
    "\n",
    "En este ejercicio vas:\n",
    "\n",
    " * a utilizar el *combinador* `compose` para generar la función `f1` que combina las funciones `sumaUno` y `multDos`. Esta función `f1` cuando se invoque con el valor de `3` se obtendrá el valor de `7` (**Nota:** No implementar como una función constante). \n",
    " * también utilizaras la función *combinador* `andThen` para generar la función `f2` que combina las funciones `sumaAlgo` y `multAlgo`. Esta otra función `f2` cuando se invoca con el valor de `3` se obtendrá el valor de `55` (**Nota:** No implementar como una función constante). "
   ]
  },
  {
   "cell_type": "code",
   "execution_count": null,
   "metadata": {
    "solution2": "hidden",
    "solution2_first": true
   },
   "outputs": [],
   "source": [
    "val sumaUno = ??? // Definir una función\n",
    "val multDos = ??? // Definir una función\n",
    "val f1 = ??? // Combinador utilizando compose \n",
    "f1(3) // 7\n",
    "val sumaAlgo = ??? // Definir una función\n",
    "val multAlgo = ??? // Definir una función\n",
    "val f2 = ??? // Combinador utilizando andThen\n",
    "f2(3) // 55we"
   ]
  },
  {
   "cell_type": "code",
   "execution_count": null,
   "metadata": {
    "solution2": "hidden"
   },
   "outputs": [],
   "source": [
    "val sumaUno = (a:Int) => a + 1\n",
    "val multDos = (a:Int) => a * 2\n",
    "val f1 = sumaUno.compose(multDos)\n",
    "f1(3)\n",
    "val sumaAlgo = (a:Int) => a + 8\n",
    "val multAlgo = (a:Int) => a * 5\n",
    "val f2 = sumaAlgo.andThen(multAlgo)\n",
    "f2(3)"
   ]
  }
 ],
 "metadata": {
  "kernelspec": {
   "display_name": "Scala",
   "language": "scala",
   "name": "scala"
  },
  "language_info": {
   "codemirror_mode": "text/x-scala",
   "file_extension": ".sc",
   "mimetype": "text/x-scala",
   "name": "scala",
   "nbconvert_exporter": "script",
   "version": "2.13.3"
  }
 },
 "nbformat": 4,
 "nbformat_minor": 4
}
