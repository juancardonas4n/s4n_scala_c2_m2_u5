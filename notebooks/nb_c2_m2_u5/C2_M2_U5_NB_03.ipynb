{
 "cells": [
  {
   "cell_type": "markdown",
   "metadata": {},
   "source": [
    "# Variables ligadas, variables libres y clausuras\n",
    "\n",
    "## Variables ligadas y variables libres\n",
    "\n",
    "### Ejercicio 1. Variables ligadas, variables libres y expresiones\n",
    "\n",
    "En el siguiente segmento de código se tiene las expresiones de la `a` a la `f`, en particular nos interesan las dos últimas: `e` y `f`. Ambas, son funciones por valor que tienen variables libres y variable ligadas. En las siguientes 4 variables (de tipo lista de carácteres `List[Char]`) se almacenarán los valores de las variables libres y ligadas de las expresiones `e` y `f`, como lo indica la enumeración:\n",
    "\n",
    "\n",
    "* `varLibEnE`: Contiene las variables libres que se encuentran en la variable `e`.\n",
    "* `varLigEnE`: Contiene las variables ligadas que se encuentran en la variable `e`.\n",
    "* `varLibEnF`: Contiene las variables libres que se encuentran en la variable `f`.\n",
    "* `varLigEnF`: Contiene las variables ligadas que se encuentran en la variable `f`.\n",
    "\n",
    "Por ejemplo: \n",
    "\n",
    "```{.scala}\n",
    "val x = 10.2\n",
    "val w = (y:Int, z:Int) => x + y * z\n",
    "```\n",
    "\n",
    "El resultado se vería así:\n",
    "\n",
    "```{.scala}\n",
    "val varLibEnW = List('x')\n",
    "val varLigEnW = List('y', 'z')\n",
    "```"
   ]
  },
  {
   "cell_type": "code",
   "execution_count": null,
   "metadata": {
    "solution2": "hidden",
    "solution2_first": true
   },
   "outputs": [],
   "source": [
    "val a = 10\n",
    "val b = \"2000\"\n",
    "val c = a + b.toInt\n",
    "val d = c * a * b.toInt\n",
    "val e = (a:Int) => a + b.toInt + c + d\n",
    "val f = (a:Int, b:String, c:Int, d:Int) => a + b.toInt + c + d\n",
    "val varLibEnE:List[Char] = ???\n",
    "val varLigEnE:List[Char] = ???\n",
    "val varLibEnF:List[Char] = ???\n",
    "val varLigEnF:List[Char] = ???"
   ]
  },
  {
   "cell_type": "code",
   "execution_count": null,
   "metadata": {
    "solution2": "hidden"
   },
   "outputs": [],
   "source": [
    "val varLibEnE:List[Char] = List('b','c','d')\n",
    "val varLigEnE:List[Char] = List('a')\n",
    "val varLibEnF:List[Char] = List()\n",
    "val varLigEnF:List[Char] = List('a','b','c','d')"
   ]
  },
  {
   "cell_type": "markdown",
   "metadata": {},
   "source": [
    "### Ejercicio 2. Variables ligadas, variables libres y aplicación parcial\n",
    "\n",
    "Una función anónima también tiene variables libres y variables ligadas. Que se calcula de forma similar a la que hemos venido utilizando.\n",
    "\n",
    "Por ejemplo:\n",
    "```{.scala}\n",
    "(a:Int, b:Double) => a + math.ceil(b).toInt + c\n",
    "```\n",
    "Observa que dicha función anónima tiene cómo variables ligadas a: `a` y `b`; y cómo variable libre a: `c`.\n",
    "\n",
    "Suponga que se define las siguiente función (`funcion`) que se encuentra definida de forma correcta"
   ]
  },
  {
   "cell_type": "code",
   "execution_count": null,
   "metadata": {},
   "outputs": [],
   "source": [
    "def funcion(f:Int=>Int, g:Int=>Double):Int=>Double = g.compose(f)"
   ]
  },
  {
   "cell_type": "markdown",
   "metadata": {},
   "source": [
    "Ahora vamos a pasarle a función dos funciones anónimas de la siguiente forma:"
   ]
  },
  {
   "cell_type": "code",
   "execution_count": null,
   "metadata": {},
   "outputs": [],
   "source": [
    "val y = 10\n",
    "val z = 20.2\n",
    "val nuevaFuncion = funcion(((a:Int,b:Int) => a + b)(_,y), ((c:Double, d:Int) => c + d)(z,_))"
   ]
  },
  {
   "cell_type": "markdown",
   "metadata": {},
   "source": [
    "Teniéndo en cuenta la definión de `funcion` y la aplicación parcial que sucede en cada uno de los dos parámetros,\n",
    "complete las siguientes listas definidas en la siguiente celda.\n",
    "\n",
    "**Recuerde** que la aplicación parcial produce una nueva función con parámetros pendientes donde se encuentre el comodín y valores ya asignados. "
   ]
  },
  {
   "cell_type": "code",
   "execution_count": null,
   "metadata": {
    "solution2": "hidden",
    "solution2_first": true
   },
   "outputs": [],
   "source": [
    "val varLibEnF:List[Char] = ???\n",
    "val varLigEnF:List[Char] = ???\n",
    "val varLibEnG:List[Char] = ???\n",
    "val varLigEnG:List[Char] = ???"
   ]
  },
  {
   "cell_type": "code",
   "execution_count": null,
   "metadata": {
    "solution2": "hidden"
   },
   "outputs": [],
   "source": [
    "val varLibEnF:List[Char] = List('y')\n",
    "val varLigEnF:List[Char] = List('a')\n",
    "val varLibEnG:List[Char] = List('z')\n",
    "val varLigEnG:List[Char] = List('d')"
   ]
  },
  {
   "cell_type": "markdown",
   "metadata": {},
   "source": [
    "## Clausura\n",
    "\n",
    "### Ejercicio 3. Variables libres, ligadas y clausura \n",
    "\n",
    "Una forma de ver la clausura de una función como un conjunto que contiene las variables libres y ligadas de una función.\n",
    "\n",
    "De las siguientes funciones, calcule la clausura de cada una de ellas y llene de forma manual las listas correspondientes.\n",
    "\n",
    "**Observe** que las listas ahora son cadenas de caracteres `String`."
   ]
  },
  {
   "cell_type": "code",
   "execution_count": null,
   "metadata": {
    "solution2": "hidden",
    "solution2_first": true
   },
   "outputs": [],
   "source": [
    "val aa = 10\n",
    "val bb = \"2034\"\n",
    "val cc = 234.23\n",
    "val f1 = (a:Int, b:Int) => a + b + aa + bb.toInt\n",
    "val f2 = (a:Int, b:Int) => f1(a,b) * a  + f1(cc.toInt,a) * b\n",
    "val clausuraF1:List[String] = ???\n",
    "val clausuraF2:List[String] = ???"
   ]
  },
  {
   "cell_type": "code",
   "execution_count": null,
   "metadata": {
    "solution2": "hidden"
   },
   "outputs": [],
   "source": [
    "val clausuraF1:List[String] = List(\"a\",\"b\", \"aa\", \"bb\")\n",
    "val clausuraF2:List[String] = List(\"a\",\"b\", \"aa\", \"bb\", \"cc\")"
   ]
  },
  {
   "cell_type": "markdown",
   "metadata": {},
   "source": [
    "### Ejercicio 4. Clausura y funciones puras\n",
    "\n",
    "A continuación se presenta una lista de funciones (`f1` a `f6`): algunas de ellas puras y otras impuras."
   ]
  },
  {
   "cell_type": "code",
   "execution_count": null,
   "metadata": {},
   "outputs": [],
   "source": [
    "var a = 10\n",
    "val b = 20\n",
    "var d = (10,20)\n",
    "val e = (10,20,30)\n",
    "val f1 = (x:Int,y:Int,z:Int) => x + y * z + a\n",
    "val f2 = (x:Int,y:Int,z:Int) => x * y * z * b\n",
    "val f3 = (x:Int,y:Int) => (x + e._1) * (y + e._2) * e._3\n",
    "val f4 = (x:Int,y:Int) => (x + e._1) * (y + e._2) * d._1\n",
    "val f5 = (x:Int) => (x * e._1) + f2(x, b, e._1) + f3(x,e._2 + e._3)\n",
    "val f6 = (x:Int) => (x * e._1) + f2(x, b, d._1) + f3(x,e._2 + e._3)"
   ]
  },
  {
   "cell_type": "markdown",
   "metadata": {},
   "source": [
    "Las siguientes funciones son puras, que reciben funciones como argumentos y producen un valor."
   ]
  },
  {
   "cell_type": "code",
   "execution_count": null,
   "metadata": {},
   "outputs": [],
   "source": [
    "val g1 = (h:(Int,Int) => Int, j:Int=>Int, z:Int) => h(_,j(z))\n",
    "val g2 = (g:(Int,Int,Int) => Int, h:(Int,Int) => Int, j:Int=>Int, z:Int) => g(h(z,j(z)),j(z),_)"
   ]
  },
  {
   "cell_type": "markdown",
   "metadata": {},
   "source": [
    "Utilice las funciones `g1` y `g2`, aplicando en sus argumentos las funciones `f1` a `f6` de forma que se produzcan funciones puras.\n",
    "\n",
    "El siguiente uso de las funciones `g1` y `g2` no pueden ser puras, por que algunos parámetros (o todos no son puros).\n",
    "\n",
    "```{.scala}\n",
    "g1(f4,f5,_)\n",
    "g2(_,f4,f5,_)\n",
    "```\n",
    "\n",
    "La idea del ejercicio es utilizar `g1` y `g2` a lo sumo  tres veces más (con argumentos de `f1` a `f6`) para producir funciones puras.\n",
    "\n",
    "\n",
    "**Nota** En la siguiente celda utilizamos `g1` y `g2` de forma que se produzcan funciones puras."
   ]
  },
  {
   "cell_type": "code",
   "execution_count": null,
   "metadata": {
    "solution2": "hidden",
    "solution2_first": true
   },
   "outputs": [],
   "source": [
    "g1(_,_,_)\n",
    "g2(_,_,_,_)"
   ]
  },
  {
   "cell_type": "code",
   "execution_count": null,
   "metadata": {
    "solution2": "hidden"
   },
   "outputs": [],
   "source": [
    "g1(f4,_,_)\n",
    "g1(f4,f5,_)\n",
    "g1(f4,f5,10)\n",
    "g2(f2,_,_,_)\n",
    "g2(f2,f4,_,_)\n",
    "g2(f2,f4,f5,_)"
   ]
  }
 ],
 "metadata": {
  "kernelspec": {
   "display_name": "Scala",
   "language": "scala",
   "name": "scala"
  },
  "language_info": {
   "codemirror_mode": "text/x-scala",
   "file_extension": ".sc",
   "mimetype": "text/x-scala",
   "name": "scala",
   "nbconvert_exporter": "script",
   "version": "2.13.3"
  }
 },
 "nbformat": 4,
 "nbformat_minor": 4
}
