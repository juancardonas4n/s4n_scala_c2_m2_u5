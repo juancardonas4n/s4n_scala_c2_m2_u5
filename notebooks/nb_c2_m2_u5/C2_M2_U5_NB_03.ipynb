{
 "cells": [
  {
   "cell_type": "markdown",
   "metadata": {},
   "source": [
    "# Variables ligadas, variables libres y clausuras\n",
    "\n",
    "## Variables ligadas y variables libres\n",
    "\n",
    "### Ejercicio 1. Variables ligadas, variables libres y expresiones\n",
    "\n",
    "El siguiente ejemplo, te muestra dos declaraciones: de una variable y una función por valor.  \n",
    "\n",
    "```{.scala}\n",
    "val x = 10.2\n",
    "val w = (y:Int, z:Int) => x + y * z\n",
    "```\n",
    "\n",
    "Si queremos computar las variables libres y ligadas de la función por valor `w` en el siguiente segmento de código vemos sus correspondientes valores:\n",
    "\n",
    "```{.scala}\n",
    "val varLibEnW = List('x')      // Variables libres de w\n",
    "val varLigEnW = List('y', 'z') // Variable ligadas de w\n",
    "```\n",
    "\n",
    "Observa la siguiente celda código, donde tienes las expresiones de la `a` a la `f`, observa las dos últimas: `e` y `f`. Ambas son funciones por valor que tienen variables libres y variable ligadas. En las siguientes 4 variables (de tipo lista de carácteres `List[Char]`) se almacenarán los valores de las variables libres y ligadas de las expresiones `e` y `f`, como te lo muestra la enumeración:\n",
    "\n",
    "* `varLibEnE`: Contiene las variables libres que se encuentran en la variable `e`.\n",
    "* `varLigEnE`: Contiene las variables ligadas que se encuentran en la variable `e`.\n",
    "* `varLibEnF`: Contiene las variables libres que se encuentran en la variable `f`.\n",
    "* `varLigEnF`: Contiene las variables ligadas que se encuentran en la variable `f`."
   ]
  },
  {
   "cell_type": "code",
   "execution_count": null,
   "metadata": {
    "solution2": "hidden",
    "solution2_first": true
   },
   "outputs": [],
   "source": [
    "val a = 10\n",
    "val b = \"2000\"\n",
    "val c = a + b.toInt\n",
    "val d = c * a * b.toInt\n",
    "val e = (a:Int) => a + b.toInt + c + d\n",
    "val f = (a:Int, b:String, c:Int, d:Int) => a + b.toInt + c + d\n",
    "val varLibEnE:List[Char] = ???\n",
    "val varLigEnE:List[Char] = ???\n",
    "val varLibEnF:List[Char] = ???\n",
    "val varLigEnF:List[Char] = ???"
   ]
  },
  {
   "cell_type": "code",
   "execution_count": null,
   "metadata": {
    "solution2": "hidden"
   },
   "outputs": [],
   "source": [
    "val varLibEnE:List[Char] = List('b','c','d')\n",
    "val varLigEnE:List[Char] = List('a')\n",
    "val varLibEnF:List[Char] = List()\n",
    "val varLigEnF:List[Char] = List('a','b','c','d')"
   ]
  },
  {
   "cell_type": "markdown",
   "metadata": {},
   "source": [
    "### Ejercicio 2. Variables ligadas, variables libres y aplicación parcial\n",
    "\n",
    "Cómo puedes inferir, una función anónima también tiene variables libres y variables ligadas, que se pueden indentificar de forma similar a lo que has hecho anteriormente.\n",
    "\n",
    "Por ejemplo:\n",
    "\n",
    "```{.scala}\n",
    "(a:Int, b:Double) => a + math.ceil(b).toInt + c\n",
    "```\n",
    "\n",
    "Observa, que dicha función anónima tiene cómo variables ligadas: `a` y `b`; y cómo variable libre: `c`.\n",
    "\n",
    "Mira ahora la definición de `funcion`:"
   ]
  },
  {
   "cell_type": "code",
   "execution_count": null,
   "metadata": {},
   "outputs": [],
   "source": [
    "def funcion(f:Int=>Int, g:Int=>Double):Int=>Double = g.compose(f)"
   ]
  },
  {
   "cell_type": "markdown",
   "metadata": {},
   "source": [
    "`funcion` es un combinador que toma dos funciones `f` y `g` produciendo una nueva función. Observa el siguiente segmento de código donde se le pasará dos funciones anónimas y la forma de utilizar la aplicación parcial:"
   ]
  },
  {
   "cell_type": "code",
   "execution_count": null,
   "metadata": {},
   "outputs": [],
   "source": [
    "val y = 10\n",
    "val z = 20.2\n",
    "val nuevaFuncion = funcion(((a:Int,b:Int) => a + b)(_,y), ((c:Double, d:Int) => c + d)(z,_))"
   ]
  },
  {
   "cell_type": "markdown",
   "metadata": {},
   "source": [
    "Dentro de `funcion` los argumentos: `f` y `g` que son funciones tienen variables libres y ligadas. Completa la siguiente lista con respecto a la celda anterior."
   ]
  },
  {
   "cell_type": "code",
   "execution_count": null,
   "metadata": {
    "solution2": "hidden",
    "solution2_first": true
   },
   "outputs": [],
   "source": [
    "val varLibEnF:List[Char] = ???\n",
    "val varLigEnF:List[Char] = ???\n",
    "val varLibEnG:List[Char] = ???\n",
    "val varLigEnG:List[Char] = ???"
   ]
  },
  {
   "cell_type": "code",
   "execution_count": null,
   "metadata": {
    "solution2": "hidden"
   },
   "outputs": [],
   "source": [
    "val varLibEnF:List[Char] = List('y')\n",
    "val varLigEnF:List[Char] = List('a')\n",
    "val varLibEnG:List[Char] = List('z')\n",
    "val varLigEnG:List[Char] = List('d')"
   ]
  },
  {
   "cell_type": "markdown",
   "metadata": {},
   "source": [
    "## Clausura\n",
    "\n",
    "### Ejercicio 3. Variables libres, ligadas y clausura \n",
    "\n",
    "Una forma de ver la clausura de una función como un conjunto que contiene las variables libres y ligadas de una función.\n",
    "\n",
    "De las siguientes funciones, calcule la clausura de cada una de ellas y llene de forma manual las listas correspondientes.\n",
    "\n",
    "**Observe** que las listas ahora son cadenas de caracteres `String`."
   ]
  },
  {
   "cell_type": "code",
   "execution_count": null,
   "metadata": {
    "solution2": "hidden",
    "solution2_first": true
   },
   "outputs": [],
   "source": [
    "val aa = 10\n",
    "val bb = \"2034\"\n",
    "val cc = 234.23\n",
    "val f1 = (a:Int, b:Int) => a + b + aa + bb.toInt\n",
    "val f2 = (a:Int, b:Int) => f1(a,b) * a  + f1(cc.toInt,a) * b\n",
    "val clausuraF1:List[String] = ???\n",
    "val clausuraF2:List[String] = ???"
   ]
  },
  {
   "cell_type": "code",
   "execution_count": null,
   "metadata": {
    "solution2": "hidden"
   },
   "outputs": [],
   "source": [
    "val clausuraF1:List[String] = List(\"a\",\"b\", \"aa\", \"bb\")\n",
    "val clausuraF2:List[String] = List(\"a\",\"b\", \"aa\", \"bb\", \"cc\")"
   ]
  },
  {
   "cell_type": "markdown",
   "metadata": {},
   "source": [
    "### Ejercicio 4. Clausura y funciones puras\n",
    "\n",
    "A continuación se te presenta una lista de funciones (`f1` a `f6`): algunas de ellas puras y otras impuras."
   ]
  },
  {
   "cell_type": "code",
   "execution_count": null,
   "metadata": {},
   "outputs": [],
   "source": [
    "var a = 10\n",
    "val b = 20\n",
    "var d = (10,20)\n",
    "val e = (10,20,30)\n",
    "val f1 = (x:Int,y:Int,z:Int) => x + y * z + a\n",
    "val f2 = (x:Int,y:Int,z:Int) => x * y * z * b\n",
    "val f3 = (x:Int,y:Int) => (x + e._1) * (y + e._2) * e._3\n",
    "val f4 = (x:Int,y:Int) => (x + e._1) * (y + e._2) * d._1\n",
    "val f5 = (x:Int) => (x * e._1) + f2(x, b, e._1) + f3(x,e._2 + e._3)\n",
    "val f6 = (x:Int) => (x * e._1) + f2(x, b, d._1) + f3(x,e._2 + e._3)"
   ]
  },
  {
   "cell_type": "markdown",
   "metadata": {},
   "source": [
    "Las siguientes funciones son puras, que reciben funciones como argumentos y producen un valor."
   ]
  },
  {
   "cell_type": "code",
   "execution_count": null,
   "metadata": {},
   "outputs": [],
   "source": [
    "val g1 = (h:(Int,Int) => Int, j:Int=>Int, z:Int) => h(_,j(z))\n",
    "val g2 = (g:(Int,Int,Int) => Int, h:(Int,Int) => Int, j:Int=>Int, z:Int) => g(h(z,j(z)),j(z),_)"
   ]
  },
  {
   "cell_type": "markdown",
   "metadata": {},
   "source": [
    "Si observas el siguiente ejemplo utilizando las funciones `g1` y `g2`:\n",
    "\n",
    "```{.scala}\n",
    "g1(f4,f5,_)\n",
    "g2(_,f4,f5,_)\n",
    "```\n",
    "\n",
    "Observaras que las funciones producidas no son puras. Lo que queremos es que utilices las funciones `g1` y `g2`, de forma que apliques en sus argumentos las funciones `f1` a `f6` con el resultado final que las funciones que produzcas son *funciones puras*. Así que completa la siguiente listas de invocaciones de funciones `g1` y `g2` reemplazando algunos argumentos con funciones puras para produccir funciones puras."
   ]
  },
  {
   "cell_type": "code",
   "execution_count": null,
   "metadata": {
    "solution2": "hidden",
    "solution2_first": true
   },
   "outputs": [],
   "source": [
    "g1(_,_,_)\n",
    "g1(_,_,_)\n",
    "g1(_,_,_)\n",
    "g2(_,_,_,_)\n",
    "g2(_,_,_,_)\n",
    "g2(_,_,_,_)"
   ]
  },
  {
   "cell_type": "code",
   "execution_count": null,
   "metadata": {
    "solution2": "hidden"
   },
   "outputs": [],
   "source": [
    "g1(f4,_,_)\n",
    "g1(f4,f5,_)\n",
    "g1(f4,f5,10)\n",
    "g2(f2,_,_,_)\n",
    "g2(f2,f4,_,_)\n",
    "g2(f2,f4,f5,_)"
   ]
  }
 ],
 "metadata": {
  "kernelspec": {
   "display_name": "Scala",
   "language": "scala",
   "name": "scala"
  },
  "language_info": {
   "codemirror_mode": "text/x-scala",
   "file_extension": ".sc",
   "mimetype": "text/x-scala",
   "name": "scala",
   "nbconvert_exporter": "script",
   "version": "2.13.3"
  }
 },
 "nbformat": 4,
 "nbformat_minor": 4
}
