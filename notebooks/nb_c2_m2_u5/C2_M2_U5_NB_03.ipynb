{
 "cells": [
  {
   "cell_type": "markdown",
   "metadata": {},
   "source": [
    "# Variables ligadas, variables libres y clausuras\n",
    "\n",
    "## Variables ligadas y variables libres\n",
    "\n",
    "### Ejercicio 1. Variables ligadas, variables libres y expresiones\n",
    "\n",
    "En el siguiente segmento de código se tiene las expresiones de la `a` a la `f`, en particular nos interesan las dos últimas: `e` y `f`. Ambas, son funciones por valor que tienen variables libres y variable ligadas, vamos a construir de forma manual a través de listas, 4 variables donde cada una ellas contendrán:\n",
    "* `varLibEnE`: Contiene las variables libres que se encuentran en la variable `e`.\n",
    "* `varLigEnE`: Contiene las variables ligadas que se encuentran en la variable `e`.\n",
    "* `varLibEnF`: Contiene las variables libres que se encuentran en la variable `f`.\n",
    "* `varLigEnF`: Contiene las variables ligadas que se encuentran en la variable `f`.\n",
    "\n",
    "Por ejemplo: \n",
    "\n",
    "```{.scala}\n",
    "val y = 10.2\n",
    "val z = (x:Int) => y + x\n",
    "```\n",
    "\n",
    "El resultado se vería así:\n",
    "\n",
    "```{.scala}\n",
    "val varLibEnZ = List('y')\n",
    "val varLigEnZ = List('x')\n",
    "```"
   ]
  },
  {
   "cell_type": "code",
   "execution_count": null,
   "metadata": {
    "solution2": "hidden",
    "solution2_first": true
   },
   "outputs": [],
   "source": [
    "val a = 10\n",
    "val b = \"2000\"\n",
    "val c = a + b.toInt\n",
    "val d = c * a * b.toInt\n",
    "val e = (a:Int) => a + b.toInt + c + d\n",
    "val f = (a:Int, b:String, c:Int, d:Int) => a + b.toInt + c + d\n",
    "val varLibEnE:List[Char] = ???\n",
    "val varLigEnE:List[Char] = ???\n",
    "val varLibEnF:List[Char] = ???\n",
    "val varLigEnF:List[Char] = ???"
   ]
  },
  {
   "cell_type": "code",
   "execution_count": null,
   "metadata": {
    "solution2": "hidden"
   },
   "outputs": [],
   "source": [
    "val varLibEnE:List[Char] = List('b','c','d')\n",
    "val varLigEnE:List[Char] = List('a')\n",
    "val varLibEnF:List[Char] = List()\n",
    "val varLigEnF:List[Char] = List('a','b','c','d')"
   ]
  },
  {
   "cell_type": "markdown",
   "metadata": {},
   "source": [
    "### Ejercicio 2. Variables ligadas, variables libres y aplicación parcial\n",
    "\n",
    "Una función anónima también tiene variables libres y variables ligadas. Que se calcula de forma similar a la que hemos venido utilizando.\n",
    "\n",
    "Por ejemplo:\n",
    "```{.scala}\n",
    "(a:Int, b:Double) => a + math.ceil(b).toInt + c\n",
    "```\n",
    "Observa que dicha función anónima tiene cómo variables ligadas a: `a` y `b`; y cómo variable libre a: `c`.\n",
    "\n",
    "Suponga que se define las siguiente función (`funcion`) que se encuentra definida de forma correcta"
   ]
  },
  {
   "cell_type": "code",
   "execution_count": null,
   "metadata": {},
   "outputs": [],
   "source": [
    "def funcion(f:Int=>Int, g:Int=>Double):Int=>Double = g.compose(f)"
   ]
  },
  {
   "cell_type": "markdown",
   "metadata": {},
   "source": [
    "Ahora vamos a pasarle a función dos funciones anónimas de la siguiente forma:"
   ]
  },
  {
   "cell_type": "code",
   "execution_count": null,
   "metadata": {},
   "outputs": [],
   "source": [
    "val y = 10\n",
    "val z = 20.2\n",
    "val nuevaFuncion = funcion(((a:Int,b:Int) => a + b)(_,y), ((c:Double, d:Int) => c + d)(z,_))"
   ]
  },
  {
   "cell_type": "markdown",
   "metadata": {},
   "source": [
    "Teniéndo en cuenta la definión de `funcion` y la aplicación parcial que sucede en cada uno de los dos parámetros,\n",
    "complete las siguientes listas:\n",
    "**Recuerde** Que la aplicación parcial produce una nueva función con parámetros pendientes donde se encuentre el comodín y valores ya asignados. "
   ]
  },
  {
   "cell_type": "code",
   "execution_count": null,
   "metadata": {
    "solution2": "hidden",
    "solution2_first": true
   },
   "outputs": [],
   "source": [
    "val varLibEnF:List[Char] = ???\n",
    "val varLigEnF:List[Char] = ???\n",
    "val varLibEnG:List[Char] = ???\n",
    "val varLigEnG:List[Char] = ???"
   ]
  },
  {
   "cell_type": "code",
   "execution_count": null,
   "metadata": {
    "solution2": "hidden"
   },
   "outputs": [],
   "source": [
    "val varLibEnF:List[Char] = List('y')\n",
    "val varLigEnF:List[Char] = List('a')\n",
    "val varLibEnG:List[Char] = List('z')\n",
    "val varLigEnG:List[Char] = List('d')"
   ]
  },
  {
   "cell_type": "markdown",
   "metadata": {},
   "source": [
    "## Clausura\n",
    "\n",
    "### Ejercicio 3. Variables libres, ligadas y clausura \n",
    "\n",
    "Una forma de ver la clausura de una función es analizar cuáles en conjunto las variables libres y variables ligadas de una función específicia.\n",
    "\n",
    "De las siguientes funciones calcule la clausura de cada una de ellas y llene de forma manual las listas correspondientes.\n",
    "\n",
    "**Observe** que las listas ahora son cadenas de caracteres `String`."
   ]
  },
  {
   "cell_type": "code",
   "execution_count": null,
   "metadata": {
    "solution2": "hidden",
    "solution2_first": true
   },
   "outputs": [],
   "source": [
    "val aa = 10\n",
    "val bb = \"2034\"\n",
    "val cc = 234.23\n",
    "val f1 = (a:Int, b:Int) => a + b + aa + bb.toInt\n",
    "val f2 = (a:Int, b:Int) => f1(a,b) * a  + f1(cc.toInt,a) * b\n",
    "val clausuraF1:List[String] = ???\n",
    "val clausuarF2:List[String] = ???"
   ]
  },
  {
   "cell_type": "code",
   "execution_count": null,
   "metadata": {
    "solution2": "hidden"
   },
   "outputs": [],
   "source": [
    "val clausuraF1:List[String] = List(\"a\",\"b\", \"aa\", \"bb\")\n",
    "val clausuraF2:List[String] = List(\"a\",\"b\", \"aa\", \"bb\", \"cc\")"
   ]
  },
  {
   "cell_type": "markdown",
   "metadata": {},
   "source": [
    "### Ejercicio 4. Clausura y funciones puras\n",
    "\n",
    "A continuación se presenta una lista de funciones (`f1` a `f6`): algunas de ellas puras, otras impuras."
   ]
  },
  {
   "cell_type": "code",
   "execution_count": null,
   "metadata": {},
   "outputs": [],
   "source": [
    "var a = 10\n",
    "val b = 20\n",
    "var d = (10,20)\n",
    "val e = (10,20,30)\n",
    "val f1 = (x:Int,y:Int,z:Int) = x + y * z + a\n",
    "val f2 = (x:Int,y:Int,z:Int) = x * y * z * b\n",
    "val f3 = (x:Int,y:Int) = (x + e._1) * (y + e._2) * e._3\n",
    "val f4 = (x:Int,y:Int) = (x + e._1) * (y + e._2) * d._1\n",
    "val f5 = (x:Int) = (x * e._1) + f2(x, b, e._1) + f3(x,e._2 + e._3)\n",
    "val f6 = (x:Int) = (x * e._1) + f2(x, b, d._1) + f3(x,e._2 + e._3)"
   ]
  },
  {
   "cell_type": "markdown",
   "metadata": {},
   "source": [
    "A continuación de muestra una lista de funciones, todas ellas puras, que reciben funciones como argumentos."
   ]
  },
  {
   "cell_type": "code",
   "execution_count": 1,
   "metadata": {},
   "outputs": [
    {
     "name": "stderr",
     "output_type": "stream",
     "text": [
      "cmd1.sc:2: value compose is not a member of Int\n",
      "val f8:Int=>Int = (g:(Int,Int,Int) => Int, h:(Int,Int) => Int, j:Int=>Int, z:Int) => g(z,j(z),_:Int).compose(j(z))\n",
      "                                                                                                     ^Compilation Failed"
     ]
    },
    {
     "ename": "",
     "evalue": "",
     "output_type": "error",
     "traceback": [
      "Compilation Failed"
     ]
    }
   ],
   "source": [
    "val f7 = (g:(Int,Int,Int) => Int, h:(Int,Int) => Int, j:Int=>Int, z:Int) => g(h(z,j(z)),j(z),h(j(z),z))\n",
    "val f8:Int=>Int = (g:(Int,Int,Int) => Int, h:(Int,Int) => Int, j:Int=>Int, z:Int) => (g(z,j(z),_)).compose(j(z))"
   ]
  },
  {
   "cell_type": "code",
   "execution_count": null,
   "metadata": {},
   "outputs": [],
   "source": []
  }
 ],
 "metadata": {
  "kernelspec": {
   "display_name": "Scala",
   "language": "scala",
   "name": "scala"
  },
  "language_info": {
   "codemirror_mode": "text/x-scala",
   "file_extension": ".sc",
   "mimetype": "text/x-scala",
   "name": "scala",
   "nbconvert_exporter": "script",
   "version": "2.13.3"
  }
 },
 "nbformat": 4,
 "nbformat_minor": 4
}
